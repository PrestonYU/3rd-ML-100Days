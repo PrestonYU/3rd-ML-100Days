{
 "cells": [
  {
   "cell_type": "markdown",
   "metadata": {},
   "source": [
    "## Work\n",
    "1. 請嘗試寫一個 callback 用來記錄各類別在訓練過程中，對驗證集的 True Positive 與 True Negative"
   ]
  },
  {
   "cell_type": "code",
   "execution_count": 1,
   "metadata": {},
   "outputs": [
    {
     "name": "stderr",
     "output_type": "stream",
     "text": [
      "Using TensorFlow backend.\n"
     ]
    }
   ],
   "source": [
    "import os\n",
    "import keras\n",
    "\n",
    "# Disable GPU\n",
    "os.environ[\"CUDA_VISIBLE_DEVICES\"] = \"\""
   ]
  },
  {
   "cell_type": "code",
   "execution_count": 2,
   "metadata": {},
   "outputs": [],
   "source": [
    "train, test = keras.datasets.cifar10.load_data()"
   ]
  },
  {
   "cell_type": "code",
   "execution_count": 3,
   "metadata": {},
   "outputs": [],
   "source": [
    "## 資料前處理\n",
    "def preproc_x(x, flatten=True):\n",
    "    x = x / 255.\n",
    "    if flatten:\n",
    "        x = x.reshape((len(x), -1))\n",
    "    return x\n",
    "\n",
    "def preproc_y(y, num_classes=10):\n",
    "    if y.shape[-1] == 1:\n",
    "        y = keras.utils.to_categorical(y, num_classes)\n",
    "    return y    "
   ]
  },
  {
   "cell_type": "code",
   "execution_count": 4,
   "metadata": {},
   "outputs": [],
   "source": [
    "x_train, y_train = train\n",
    "x_test, y_test = test\n",
    "\n",
    "# Preproc the inputs\n",
    "x_train = preproc_x(x_train)\n",
    "x_test = preproc_x(x_test)\n",
    "\n",
    "# Preprc the outputs\n",
    "y_train = preproc_y(y_train)\n",
    "y_test = preproc_y(y_test)"
   ]
  },
  {
   "cell_type": "code",
   "execution_count": 5,
   "metadata": {},
   "outputs": [],
   "source": [
    "from keras.layers import BatchNormalization\n",
    "def build_mlp(input_shape, output_units=10, num_neurons=[256, 256, 256]):\n",
    "    input_layer = keras.layers.Input(input_shape)\n",
    "    \n",
    "    for i, n_units in enumerate(num_neurons):\n",
    "        if i == 0:\n",
    "            x = keras.layers.Dense(units=n_units, \n",
    "                                   activation=\"relu\", \n",
    "                                   name=\"hidden_layer\"+str(i+1))(input_layer)\n",
    "            x = BatchNormalization()(x)\n",
    "        else:\n",
    "            x = keras.layers.Dense(units=n_units, \n",
    "                                   activation=\"relu\", \n",
    "                                   name=\"hidden_layer\"+str(i+1))(x)\n",
    "            x = BatchNormalization()(x)\n",
    "    \n",
    "    out = keras.layers.Dense(units=output_units, activation=\"softmax\", name=\"output\")(x)\n",
    "    \n",
    "    model = keras.models.Model(inputs=[input_layer], outputs=[out])\n",
    "    return model"
   ]
  },
  {
   "cell_type": "code",
   "execution_count": 6,
   "metadata": {},
   "outputs": [],
   "source": [
    "## 超參數設定\n",
    "LEARNING_RATE = 1e-3\n",
    "EPOCHS = 25\n",
    "BATCH_SIZE = 1024\n",
    "MOMENTUM = 0.95"
   ]
  },
  {
   "cell_type": "code",
   "execution_count": 7,
   "metadata": {},
   "outputs": [],
   "source": [
    "# 載入 Callbacks\n",
    "from keras.callbacks import Callback\n",
    "\n",
    "# Record_fp_tp\n",
    "class Record_tp_tn(Callback):\n",
    "    \"\"\"Code Here\n",
    "    撰寫一個紀錄 ture positive 與 true negative 數量的 callbacks    \n",
    "    \"\"\"\n",
    "    def on_train_begin(self, epoch, logs = {}):\n",
    "        logs = logs or {}\n",
    "        record_items = [\"val_tp\", \"val_tn\"]\n",
    "        for i in record_items:\n",
    "            if i not in self.params['metrics']:\n",
    "                self.params['metrics'].append(i)\n",
    "    \n",
    "    def on_epoch_end(self, epoch, logs = {}, thres=0.5):\n",
    "        logs = logs or {}\n",
    "        y_true = self.validation_data[1].argmax(axis = 1)\n",
    "        y_pred = self.model.predict(self.validation_data[0])\n",
    "        y_pred = (y_pred[:, 1] >= thres) * 1\n",
    "        \n",
    "        val_tp = sum(y_true*y_pred)\n",
    "        val_tn = sum((y_true==0) & (y_pred==0))\n",
    "        \n",
    "        logs[\"val_tp\"] = val_tp\n",
    "        logs[\"val_tn\"] = val_tn\n",
    "        \n",
    "rec_tptn = Record_tp_tn()"
   ]
  },
  {
   "cell_type": "code",
   "execution_count": 8,
   "metadata": {
    "scrolled": true
   },
   "outputs": [
    {
     "name": "stdout",
     "output_type": "stream",
     "text": [
      "Model: \"model_1\"\n",
      "_________________________________________________________________\n",
      "Layer (type)                 Output Shape              Param #   \n",
      "=================================================================\n",
      "input_1 (InputLayer)         (None, 3072)              0         \n",
      "_________________________________________________________________\n",
      "hidden_layer1 (Dense)        (None, 256)               786688    \n",
      "_________________________________________________________________\n",
      "batch_normalization_1 (Batch (None, 256)               1024      \n",
      "_________________________________________________________________\n",
      "hidden_layer2 (Dense)        (None, 256)               65792     \n",
      "_________________________________________________________________\n",
      "batch_normalization_2 (Batch (None, 256)               1024      \n",
      "_________________________________________________________________\n",
      "hidden_layer3 (Dense)        (None, 256)               65792     \n",
      "_________________________________________________________________\n",
      "batch_normalization_3 (Batch (None, 256)               1024      \n",
      "_________________________________________________________________\n",
      "output (Dense)               (None, 10)                2570      \n",
      "=================================================================\n",
      "Total params: 923,914\n",
      "Trainable params: 922,378\n",
      "Non-trainable params: 1,536\n",
      "_________________________________________________________________\n",
      "Train on 50000 samples, validate on 10000 samples\n",
      "Epoch 1/25\n",
      "50000/50000 [==============================] - 39s 775us/step - loss: 2.2380 - accuracy: 0.2641 - val_loss: 2.1492 - val_accuracy: 0.2186\n",
      "Epoch 2/25\n",
      "50000/50000 [==============================] - 17s 336us/step - loss: 1.7673 - accuracy: 0.3837 - val_loss: 1.9978 - val_accuracy: 0.2973\n",
      "Epoch 3/25\n",
      "50000/50000 [==============================] - 16s 328us/step - loss: 1.6402 - accuracy: 0.4243 - val_loss: 1.8423 - val_accuracy: 0.3575\n",
      "Epoch 4/25\n",
      "50000/50000 [==============================] - 18s 360us/step - loss: 1.5678 - accuracy: 0.4497 - val_loss: 1.7322 - val_accuracy: 0.4041\n",
      "Epoch 5/25\n",
      "50000/50000 [==============================] - 18s 361us/step - loss: 1.5164 - accuracy: 0.4678 - val_loss: 1.6442 - val_accuracy: 0.4275\n",
      "Epoch 6/25\n",
      "50000/50000 [==============================] - 20s 394us/step - loss: 1.4750 - accuracy: 0.4835 - val_loss: 1.5881 - val_accuracy: 0.4435\n",
      "Epoch 7/25\n",
      "50000/50000 [==============================] - 25s 492us/step - loss: 1.4393 - accuracy: 0.4977 - val_loss: 1.5495 - val_accuracy: 0.4552\n",
      "Epoch 8/25\n",
      "50000/50000 [==============================] - 33s 657us/step - loss: 1.4057 - accuracy: 0.5081 - val_loss: 1.5278 - val_accuracy: 0.4615\n",
      "Epoch 9/25\n",
      "50000/50000 [==============================] - 19s 386us/step - loss: 1.3757 - accuracy: 0.5177 - val_loss: 1.5163 - val_accuracy: 0.4650\n",
      "Epoch 10/25\n",
      "50000/50000 [==============================] - 18s 351us/step - loss: 1.3493 - accuracy: 0.5281 - val_loss: 1.5074 - val_accuracy: 0.4694\n",
      "Epoch 11/25\n",
      "50000/50000 [==============================] - 28s 554us/step - loss: 1.3249 - accuracy: 0.5356 - val_loss: 1.4860 - val_accuracy: 0.4793\n",
      "Epoch 12/25\n",
      "50000/50000 [==============================] - 27s 538us/step - loss: 1.3006 - accuracy: 0.5453 - val_loss: 1.4638 - val_accuracy: 0.4828\n",
      "Epoch 13/25\n",
      "50000/50000 [==============================] - 25s 492us/step - loss: 1.2770 - accuracy: 0.5553 - val_loss: 1.4780 - val_accuracy: 0.4823\n",
      "Epoch 14/25\n",
      "50000/50000 [==============================] - 29s 573us/step - loss: 1.2554 - accuracy: 0.5630 - val_loss: 1.4636 - val_accuracy: 0.4844\n",
      "Epoch 15/25\n",
      "50000/50000 [==============================] - 31s 613us/step - loss: 1.2346 - accuracy: 0.5704 - val_loss: 1.4597 - val_accuracy: 0.4921\n",
      "Epoch 16/25\n",
      "50000/50000 [==============================] - 25s 502us/step - loss: 1.2159 - accuracy: 0.5779 - val_loss: 1.4598 - val_accuracy: 0.4890\n",
      "Epoch 17/25\n",
      "50000/50000 [==============================] - 38s 768us/step - loss: 1.1965 - accuracy: 0.5852 - val_loss: 1.4501 - val_accuracy: 0.4919\n",
      "Epoch 18/25\n",
      "50000/50000 [==============================] - 71s 1ms/step - loss: 1.1780 - accuracy: 0.5907 - val_loss: 1.4645 - val_accuracy: 0.4848\n",
      "Epoch 19/25\n",
      "50000/50000 [==============================] - 31s 627us/step - loss: 1.1596 - accuracy: 0.5990 - val_loss: 1.4419 - val_accuracy: 0.4954\n",
      "Epoch 20/25\n",
      "50000/50000 [==============================] - 20s 401us/step - loss: 1.1404 - accuracy: 0.6062 - val_loss: 1.4386 - val_accuracy: 0.4961\n",
      "Epoch 21/25\n",
      "50000/50000 [==============================] - 23s 458us/step - loss: 1.1242 - accuracy: 0.6132 - val_loss: 1.4459 - val_accuracy: 0.4943\n",
      "Epoch 22/25\n",
      "50000/50000 [==============================] - 27s 531us/step - loss: 1.1053 - accuracy: 0.6192 - val_loss: 1.4349 - val_accuracy: 0.4994\n",
      "Epoch 23/25\n",
      "50000/50000 [==============================] - 22s 447us/step - loss: 1.0872 - accuracy: 0.6269 - val_loss: 1.4344 - val_accuracy: 0.4967\n",
      "Epoch 24/25\n",
      "50000/50000 [==============================] - 39s 786us/step - loss: 1.0703 - accuracy: 0.6334 - val_loss: 1.4316 - val_accuracy: 0.4996\n",
      "Epoch 25/25\n",
      "50000/50000 [==============================] - 18s 367us/step - loss: 1.0531 - accuracy: 0.6401 - val_loss: 1.4517 - val_accuracy: 0.4972\n"
     ]
    }
   ],
   "source": [
    "model = build_mlp(input_shape=x_train.shape[1:])\n",
    "model.summary()\n",
    "optimizer = keras.optimizers.SGD(lr=LEARNING_RATE, nesterov=True, momentum=MOMENTUM)\n",
    "model.compile(loss=\"categorical_crossentropy\", metrics=[\"accuracy\"], optimizer=optimizer)\n",
    "\n",
    "model.fit(x_train, y_train, \n",
    "          epochs=EPOCHS, \n",
    "          batch_size=BATCH_SIZE, \n",
    "          validation_data=(x_test, y_test), \n",
    "          shuffle=True,\n",
    "          callbacks=[rec_tptn]\n",
    "         )\n",
    "\n",
    "# Collect results\n",
    "train_loss = model.history.history[\"loss\"]\n",
    "valid_loss = model.history.history[\"val_loss\"]\n",
    "train_acc = model.history.history[\"accuracy\"]\n",
    "valid_acc = model.history.history[\"val_accuracy\"]\n",
    "\n",
    "\n",
    "\"\"\"Code Here\n",
    "將 tp/tn 從訓練完的模型中取出\n",
    "\"\"\"\n",
    "valid_tp = model.history.history['val_tp']\n",
    "valid_tn = model.history.history['val_tn']"
   ]
  },
  {
   "cell_type": "code",
   "execution_count": 9,
   "metadata": {},
   "outputs": [
    {
     "data": {
      "image/png": "[encoded data removed]",
      "text/plain": [
       "<Figure size 432x288 with 1 Axes>"
      ]
     },
     "metadata": {
      "needs_background": "light"
     },
     "output_type": "display_data"
    },
    {
     "data": {
      "image/png": "[encoded data removed]",
      "text/plain": [
       "<Figure size 432x288 with 1 Axes>"
      ]
     },
     "metadata": {
      "needs_background": "light"
     },
     "output_type": "display_data"
    },
    {
     "data": {
      "image/png": "[encoded data removed]",
      "text/plain": [
       "<Figure size 432x288 with 1 Axes>"
      ]
     },
     "metadata": {
      "needs_background": "light"
     },
     "output_type": "display_data"
    }
   ],
   "source": [
    "import matplotlib.pyplot as plt\n",
    "%matplotlib inline\n",
    "\n",
    "plt.plot(range(len(train_loss)), train_loss, label=\"train loss\")\n",
    "plt.plot(range(len(valid_loss)), valid_loss, label=\"valid loss\")\n",
    "plt.legend()\n",
    "plt.title(\"Loss\")\n",
    "plt.show()\n",
    "\n",
    "plt.plot(range(len(train_acc)), train_acc, label=\"train accuracy\")\n",
    "plt.plot(range(len(valid_acc)), valid_acc, label=\"valid accuracy\")\n",
    "plt.legend()\n",
    "plt.title(\"Accuracy\")\n",
    "plt.show()\n",
    "\n",
    "plt.plot(range(len(valid_tp)), valid_tp, label=\"valid tp\", color=\"navy\")\n",
    "plt.plot(range(len(valid_tn)), valid_tn, label=\"valid tn\", color=\"red\")\n",
    "plt.legend()\n",
    "plt.title(\"True positives and True Negatives\")\n",
    "plt.show()"
   ]
  },
  {
   "cell_type": "code",
   "execution_count": null,
   "metadata": {},
   "outputs": [],
   "source": []
  }
 ],
 "metadata": {
  "kernelspec": {
   "display_name": "Python 3",
   "language": "python",
   "name": "python3"
  },
  "language_info": {
   "codemirror_mode": {
    "name": "ipython",
    "version": 3
   },
   "file_extension": ".py",
   "mimetype": "text/x-python",
   "name": "python",
   "nbconvert_exporter": "python",
   "pygments_lexer": "ipython3",
   "version": "3.7.3"
  }
 },
 "nbformat": 4,
 "nbformat_minor": 2
}
