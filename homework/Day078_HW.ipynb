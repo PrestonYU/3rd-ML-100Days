{
 "cells": [
  {
   "cell_type": "markdown",
   "metadata": {},
   "source": [
    "## Work\n",
    "1. 請嘗試將 preproc_x 替換成以每筆資料的 min/max 進行標準化至 -1 ~ 1 間，再進行訓練\n",
    "2. 請嘗試將 mlp 疊更深 (e.g 5~10 層)，進行訓練後觀察 learning curve 的走勢\n",
    "3. (optional) 請改用 GPU 進行訓練 (如果你有 GPU 的話)，比較使用 CPU 與 GPU 的訓練速度"
   ]
  },
  {
   "cell_type": "code",
   "execution_count": 1,
   "metadata": {},
   "outputs": [
    {
     "data": {
      "text/plain": [
       "'\\n確認硬體資源\\n!nvidia-smi\\n'"
      ]
     },
     "execution_count": 1,
     "metadata": {},
     "output_type": "execute_result"
    }
   ],
   "source": [
    "## \n",
    "\"\"\"\n",
    "確認硬體資源\n",
    "!nvidia-smi\n",
    "\"\"\""
   ]
  },
  {
   "cell_type": "code",
   "execution_count": 2,
   "metadata": {},
   "outputs": [
    {
     "name": "stderr",
     "output_type": "stream",
     "text": [
      "Using TensorFlow backend.\n"
     ]
    }
   ],
   "source": [
    "import os\n",
    "import keras\n",
    "\n",
    "# 請嘗試設定 GPU：os.environ\n",
    "os.environ[\"CUDA_VISIBLE_DEVICES\"] = \"0\""
   ]
  },
  {
   "cell_type": "code",
   "execution_count": 3,
   "metadata": {},
   "outputs": [],
   "source": [
    "train, test = keras.datasets.cifar10.load_data()"
   ]
  },
  {
   "cell_type": "code",
   "execution_count": 4,
   "metadata": {},
   "outputs": [],
   "source": [
    "## 資料前處理\n",
    "def preproc_x(x):\n",
    "    x=2*(x-x.min())/(x.max()-x.min())-1\n",
    "    x = x.reshape((len(x), -1))\n",
    "    return x\n",
    "\n",
    "def preproc_y(y, num_classes=10):\n",
    "    if y.shape[-1] == 1:\n",
    "        y = keras.utils.to_categorical(y, num_classes)\n",
    "    return y"
   ]
  },
  {
   "cell_type": "code",
   "execution_count": 5,
   "metadata": {},
   "outputs": [],
   "source": [
    "x_train, y_train = train\n",
    "x_test, y_test = test\n",
    "\n",
    "# Preproc the inputs\n",
    "x_train = preproc_x(x_train)\n",
    "x_test = preproc_x(x_test)\n",
    "\n",
    "# Preprc the outputs\n",
    "y_train = preproc_y(y_train)\n",
    "y_test = preproc_y(y_test)"
   ]
  },
  {
   "cell_type": "code",
   "execution_count": 6,
   "metadata": {},
   "outputs": [
    {
     "name": "stdout",
     "output_type": "stream",
     "text": [
      "Model: \"model_1\"\n",
      "_________________________________________________________________\n",
      "Layer (type)                 Output Shape              Param #   \n",
      "=================================================================\n",
      "input_1 (InputLayer)         (None, 3072)              0         \n",
      "_________________________________________________________________\n",
      "hidden_layer1 (Dense)        (None, 512)               1573376   \n",
      "_________________________________________________________________\n",
      "hidden_layer2 (Dense)        (None, 256)               131328    \n",
      "_________________________________________________________________\n",
      "hidden_layer3 (Dense)        (None, 128)               32896     \n",
      "_________________________________________________________________\n",
      "hidden_layer4 (Dense)        (None, 64)                8256      \n",
      "_________________________________________________________________\n",
      "hidden_layer5 (Dense)        (None, 32)                2080      \n",
      "_________________________________________________________________\n",
      "output (Dense)               (None, 10)                330       \n",
      "=================================================================\n",
      "Total params: 1,748,266\n",
      "Trainable params: 1,748,266\n",
      "Non-trainable params: 0\n",
      "_________________________________________________________________\n"
     ]
    }
   ],
   "source": [
    "def build_mlp(input_shape, output_units=10, num_neurons=[512, 256, 128,64,32]):\n",
    "    input_layer = keras.layers.Input(input_shape)\n",
    "    \n",
    "    for i, n_units in enumerate(num_neurons):\n",
    "        if i == 0:\n",
    "            x = keras.layers.Dense(units=n_units, activation=\"relu\", name=\"hidden_layer\"+str(i+1))(input_layer)\n",
    "        else:\n",
    "            x = keras.layers.Dense(units=n_units, activation=\"relu\", name=\"hidden_layer\"+str(i+1))(x)\n",
    "    \n",
    "    out = keras.layers.Dense(units=output_units, activation=\"softmax\", name=\"output\")(x)\n",
    "    \n",
    "    model = keras.models.Model(inputs=[input_layer], outputs=[out])\n",
    "    return model\n",
    "model = build_mlp(input_shape=x_train.shape[1:])\n",
    "model.summary()"
   ]
  },
  {
   "cell_type": "code",
   "execution_count": 7,
   "metadata": {},
   "outputs": [],
   "source": [
    "## 超參數設定\n",
    "LEARNING_RATE = 0.001\n",
    "EPOCHS = 100\n",
    "BATCH_SIZE = 256"
   ]
  },
  {
   "cell_type": "code",
   "execution_count": 8,
   "metadata": {},
   "outputs": [],
   "source": [
    "optimizer = keras.optimizers.Adam(lr=LEARNING_RATE)\n",
    "model.compile(loss=\"categorical_crossentropy\", metrics=[\"accuracy\"], optimizer=optimizer)"
   ]
  },
  {
   "cell_type": "code",
   "execution_count": 9,
   "metadata": {},
   "outputs": [
    {
     "name": "stdout",
     "output_type": "stream",
     "text": [
      "Train on 50000 samples, validate on 10000 samples\n",
      "Epoch 1/100\n",
      "50000/50000 [==============================] - 32s 632us/step - loss: 2.2603 - accuracy: 0.1378 - val_loss: 2.2354 - val_accuracy: 0.1605\n",
      "Epoch 2/100\n",
      "50000/50000 [==============================] - 21s 422us/step - loss: 2.1875 - accuracy: 0.1835 - val_loss: 2.1564 - val_accuracy: 0.2076\n",
      "Epoch 3/100\n",
      "50000/50000 [==============================] - 20s 395us/step - loss: 2.1116 - accuracy: 0.2258 - val_loss: 2.1041 - val_accuracy: 0.2260\n",
      "Epoch 4/100\n",
      "50000/50000 [==============================] - 19s 384us/step - loss: 2.0513 - accuracy: 0.2527 - val_loss: 2.0450 - val_accuracy: 0.2528\n",
      "Epoch 5/100\n",
      "50000/50000 [==============================] - 19s 383us/step - loss: 1.9950 - accuracy: 0.2768 - val_loss: 2.0287 - val_accuracy: 0.2599\n",
      "Epoch 6/100\n",
      "50000/50000 [==============================] - 20s 395us/step - loss: 1.9613 - accuracy: 0.2895 - val_loss: 1.9916 - val_accuracy: 0.2752\n",
      "Epoch 7/100\n",
      "50000/50000 [==============================] - 20s 402us/step - loss: 1.9268 - accuracy: 0.3039 - val_loss: 1.9685 - val_accuracy: 0.2915\n",
      "Epoch 8/100\n",
      "50000/50000 [==============================] - 19s 382us/step - loss: 1.8948 - accuracy: 0.3197 - val_loss: 1.9852 - val_accuracy: 0.2818\n",
      "Epoch 9/100\n",
      "50000/50000 [==============================] - 21s 429us/step - loss: 1.8694 - accuracy: 0.3280 - val_loss: 1.9755 - val_accuracy: 0.2933\n",
      "Epoch 10/100\n",
      "50000/50000 [==============================] - 19s 379us/step - loss: 1.8348 - accuracy: 0.3409 - val_loss: 1.9680 - val_accuracy: 0.2959\n",
      "Epoch 11/100\n",
      "50000/50000 [==============================] - 19s 386us/step - loss: 1.8015 - accuracy: 0.3532 - val_loss: 1.9808 - val_accuracy: 0.2942\n",
      "Epoch 12/100\n",
      "50000/50000 [==============================] - 20s 391us/step - loss: 1.7732 - accuracy: 0.3636 - val_loss: 1.9656 - val_accuracy: 0.2981\n",
      "Epoch 13/100\n",
      "50000/50000 [==============================] - 22s 446us/step - loss: 1.7391 - accuracy: 0.3762 - val_loss: 1.9731 - val_accuracy: 0.3023\n",
      "Epoch 14/100\n",
      "50000/50000 [==============================] - 20s 391us/step - loss: 1.7152 - accuracy: 0.3862 - val_loss: 2.0132 - val_accuracy: 0.2926\n",
      "Epoch 15/100\n",
      "50000/50000 [==============================] - 19s 378us/step - loss: 1.6869 - accuracy: 0.3968 - val_loss: 1.9772 - val_accuracy: 0.3038\n",
      "Epoch 16/100\n",
      "50000/50000 [==============================] - 19s 387us/step - loss: 1.6451 - accuracy: 0.4135 - val_loss: 2.0462 - val_accuracy: 0.2902\n",
      "Epoch 17/100\n",
      "50000/50000 [==============================] - 20s 392us/step - loss: 1.6145 - accuracy: 0.4221 - val_loss: 1.9744 - val_accuracy: 0.3092\n",
      "Epoch 18/100\n",
      "50000/50000 [==============================] - 20s 397us/step - loss: 1.5868 - accuracy: 0.4341 - val_loss: 2.0116 - val_accuracy: 0.3136\n",
      "Epoch 19/100\n",
      "50000/50000 [==============================] - 20s 398us/step - loss: 1.5479 - accuracy: 0.4491 - val_loss: 2.0435 - val_accuracy: 0.3066\n",
      "Epoch 20/100\n",
      "50000/50000 [==============================] - 22s 444us/step - loss: 1.5149 - accuracy: 0.4594 - val_loss: 2.0448 - val_accuracy: 0.3096\n",
      "Epoch 21/100\n",
      "50000/50000 [==============================] - 20s 397us/step - loss: 1.4834 - accuracy: 0.4720 - val_loss: 2.0426 - val_accuracy: 0.2985\n",
      "Epoch 22/100\n",
      "50000/50000 [==============================] - 24s 470us/step - loss: 1.4599 - accuracy: 0.4804 - val_loss: 2.1561 - val_accuracy: 0.3004\n",
      "Epoch 23/100\n",
      "50000/50000 [==============================] - 20s 398us/step - loss: 1.4079 - accuracy: 0.4972 - val_loss: 2.1213 - val_accuracy: 0.3017\n",
      "Epoch 24/100\n",
      "50000/50000 [==============================] - 22s 431us/step - loss: 1.3858 - accuracy: 0.5084 - val_loss: 2.1683 - val_accuracy: 0.3052\n",
      "Epoch 25/100\n",
      "50000/50000 [==============================] - 21s 423us/step - loss: 1.3480 - accuracy: 0.5220 - val_loss: 2.2136 - val_accuracy: 0.2992\n",
      "Epoch 26/100\n",
      "50000/50000 [==============================] - 20s 391us/step - loss: 1.3145 - accuracy: 0.5309 - val_loss: 2.1927 - val_accuracy: 0.3012\n",
      "Epoch 27/100\n",
      "50000/50000 [==============================] - 20s 394us/step - loss: 1.2688 - accuracy: 0.5509 - val_loss: 2.2926 - val_accuracy: 0.2961\n",
      "Epoch 28/100\n",
      "50000/50000 [==============================] - 19s 388us/step - loss: 1.2443 - accuracy: 0.5563 - val_loss: 2.3513 - val_accuracy: 0.2952\n",
      "Epoch 29/100\n",
      "50000/50000 [==============================] - 21s 414us/step - loss: 1.2283 - accuracy: 0.5617 - val_loss: 2.3645 - val_accuracy: 0.2922\n",
      "Epoch 30/100\n",
      "50000/50000 [==============================] - 20s 390us/step - loss: 1.1740 - accuracy: 0.5842 - val_loss: 2.4756 - val_accuracy: 0.2849\n",
      "Epoch 31/100\n",
      "50000/50000 [==============================] - 21s 412us/step - loss: 1.1593 - accuracy: 0.5891 - val_loss: 2.5159 - val_accuracy: 0.2949\n",
      "Epoch 32/100\n",
      "50000/50000 [==============================] - 20s 398us/step - loss: 1.1172 - accuracy: 0.6028 - val_loss: 2.4948 - val_accuracy: 0.2994\n",
      "Epoch 33/100\n",
      "50000/50000 [==============================] - 22s 443us/step - loss: 1.0951 - accuracy: 0.6096 - val_loss: 2.6217 - val_accuracy: 0.2998\n",
      "Epoch 34/100\n",
      "50000/50000 [==============================] - 20s 407us/step - loss: 1.0641 - accuracy: 0.6209 - val_loss: 2.6137 - val_accuracy: 0.2978\n",
      "Epoch 35/100\n",
      "50000/50000 [==============================] - 20s 401us/step - loss: 1.0329 - accuracy: 0.6322 - val_loss: 2.7162 - val_accuracy: 0.2862\n",
      "Epoch 36/100\n",
      "50000/50000 [==============================] - 27s 531us/step - loss: 0.9929 - accuracy: 0.6481 - val_loss: 2.8126 - val_accuracy: 0.2806\n",
      "Epoch 37/100\n",
      "50000/50000 [==============================] - 20s 407us/step - loss: 0.9574 - accuracy: 0.6628 - val_loss: 2.8975 - val_accuracy: 0.2971\n",
      "Epoch 38/100\n",
      "50000/50000 [==============================] - 23s 468us/step - loss: 0.9219 - accuracy: 0.6761 - val_loss: 2.8267 - val_accuracy: 0.2895\n",
      "Epoch 39/100\n",
      "50000/50000 [==============================] - 20s 394us/step - loss: 0.9172 - accuracy: 0.6765 - val_loss: 2.9165 - val_accuracy: 0.2949\n",
      "Epoch 40/100\n",
      "50000/50000 [==============================] - 19s 377us/step - loss: 0.9017 - accuracy: 0.6795 - val_loss: 3.0014 - val_accuracy: 0.2948\n",
      "Epoch 41/100\n",
      "50000/50000 [==============================] - 19s 377us/step - loss: 0.8630 - accuracy: 0.6932 - val_loss: 3.0028 - val_accuracy: 0.2840\n",
      "Epoch 42/100\n",
      "50000/50000 [==============================] - 19s 389us/step - loss: 0.8264 - accuracy: 0.7089 - val_loss: 3.2776 - val_accuracy: 0.2893\n",
      "Epoch 43/100\n",
      "50000/50000 [==============================] - 19s 385us/step - loss: 0.8094 - accuracy: 0.7116 - val_loss: 3.2381 - val_accuracy: 0.2857\n",
      "Epoch 44/100\n",
      "50000/50000 [==============================] - 19s 380us/step - loss: 0.7926 - accuracy: 0.7172 - val_loss: 3.3719 - val_accuracy: 0.2936\n",
      "Epoch 45/100\n",
      "50000/50000 [==============================] - 24s 476us/step - loss: 0.7579 - accuracy: 0.7304 - val_loss: 3.5700 - val_accuracy: 0.2824\n",
      "Epoch 46/100\n",
      "50000/50000 [==============================] - 24s 473us/step - loss: 0.7484 - accuracy: 0.7336 - val_loss: 3.5302 - val_accuracy: 0.2922\n",
      "Epoch 47/100\n",
      "50000/50000 [==============================] - 19s 388us/step - loss: 0.7150 - accuracy: 0.7453 - val_loss: 3.5741 - val_accuracy: 0.2874\n",
      "Epoch 48/100\n",
      "50000/50000 [==============================] - 23s 465us/step - loss: 0.6954 - accuracy: 0.7541 - val_loss: 3.7676 - val_accuracy: 0.2822\n",
      "Epoch 49/100\n",
      "50000/50000 [==============================] - 21s 422us/step - loss: 0.6803 - accuracy: 0.7601 - val_loss: 3.6623 - val_accuracy: 0.2858\n",
      "Epoch 50/100\n",
      "50000/50000 [==============================] - 22s 446us/step - loss: 0.6495 - accuracy: 0.7701 - val_loss: 3.9352 - val_accuracy: 0.2793\n",
      "Epoch 51/100\n",
      "50000/50000 [==============================] - 28s 562us/step - loss: 0.6514 - accuracy: 0.7679 - val_loss: 4.0367 - val_accuracy: 0.2840\n",
      "Epoch 52/100\n",
      "50000/50000 [==============================] - 24s 490us/step - loss: 0.6103 - accuracy: 0.7849 - val_loss: 3.8969 - val_accuracy: 0.2790\n",
      "Epoch 53/100\n",
      "50000/50000 [==============================] - 20s 405us/step - loss: 0.6006 - accuracy: 0.7869 - val_loss: 4.0248 - val_accuracy: 0.2820\n",
      "Epoch 54/100\n",
      "50000/50000 [==============================] - 19s 390us/step - loss: 0.6093 - accuracy: 0.7853 - val_loss: 4.0185 - val_accuracy: 0.2915\n"
     ]
    },
    {
     "name": "stdout",
     "output_type": "stream",
     "text": [
      "Epoch 55/100\n",
      "50000/50000 [==============================] - 19s 373us/step - loss: 0.5445 - accuracy: 0.8092 - val_loss: 4.3085 - val_accuracy: 0.2865\n",
      "Epoch 56/100\n",
      "50000/50000 [==============================] - 20s 390us/step - loss: 0.5509 - accuracy: 0.8066 - val_loss: 4.3677 - val_accuracy: 0.2836\n",
      "Epoch 57/100\n",
      "50000/50000 [==============================] - 21s 429us/step - loss: 0.5322 - accuracy: 0.8111 - val_loss: 4.3836 - val_accuracy: 0.2791\n",
      "Epoch 58/100\n",
      "50000/50000 [==============================] - 19s 373us/step - loss: 0.5228 - accuracy: 0.8154 - val_loss: 4.4515 - val_accuracy: 0.2769\n",
      "Epoch 59/100\n",
      "50000/50000 [==============================] - 18s 370us/step - loss: 0.4988 - accuracy: 0.8246 - val_loss: 4.7665 - val_accuracy: 0.2696\n",
      "Epoch 60/100\n",
      "50000/50000 [==============================] - 22s 440us/step - loss: 0.5186 - accuracy: 0.8157 - val_loss: 5.0576 - val_accuracy: 0.2764\n",
      "Epoch 61/100\n",
      "50000/50000 [==============================] - 21s 414us/step - loss: 0.4768 - accuracy: 0.8317 - val_loss: 4.9802 - val_accuracy: 0.2767\n",
      "Epoch 62/100\n",
      "50000/50000 [==============================] - 19s 375us/step - loss: 0.4481 - accuracy: 0.8444 - val_loss: 4.9259 - val_accuracy: 0.2748\n",
      "Epoch 63/100\n",
      "50000/50000 [==============================] - 19s 375us/step - loss: 0.4234 - accuracy: 0.8520 - val_loss: 5.4138 - val_accuracy: 0.2900\n",
      "Epoch 64/100\n",
      "50000/50000 [==============================] - 19s 387us/step - loss: 0.4156 - accuracy: 0.8556 - val_loss: 5.3770 - val_accuracy: 0.2829\n",
      "Epoch 65/100\n",
      "50000/50000 [==============================] - 20s 395us/step - loss: 0.4978 - accuracy: 0.8270 - val_loss: 5.0235 - val_accuracy: 0.2745\n",
      "Epoch 66/100\n",
      "50000/50000 [==============================] - 19s 386us/step - loss: 0.4132 - accuracy: 0.8565 - val_loss: 5.1637 - val_accuracy: 0.2743\n",
      "Epoch 67/100\n",
      "50000/50000 [==============================] - 22s 438us/step - loss: 0.4184 - accuracy: 0.8538 - val_loss: 5.3890 - val_accuracy: 0.2804\n",
      "Epoch 68/100\n",
      "50000/50000 [==============================] - 23s 468us/step - loss: 0.3917 - accuracy: 0.8657 - val_loss: 5.5496 - val_accuracy: 0.2819\n",
      "Epoch 69/100\n",
      "50000/50000 [==============================] - 20s 398us/step - loss: 0.4213 - accuracy: 0.8533 - val_loss: 5.4384 - val_accuracy: 0.2739\n",
      "Epoch 70/100\n",
      "50000/50000 [==============================] - 20s 398us/step - loss: 0.4146 - accuracy: 0.8545 - val_loss: 5.7483 - val_accuracy: 0.2701\n",
      "Epoch 71/100\n",
      "50000/50000 [==============================] - 19s 388us/step - loss: 0.4238 - accuracy: 0.8538 - val_loss: 5.7489 - val_accuracy: 0.2766\n",
      "Epoch 72/100\n",
      "50000/50000 [==============================] - 19s 390us/step - loss: 0.3283 - accuracy: 0.8880 - val_loss: 5.7366 - val_accuracy: 0.2680\n",
      "Epoch 73/100\n",
      "50000/50000 [==============================] - 19s 388us/step - loss: 0.3622 - accuracy: 0.8746 - val_loss: 5.8393 - val_accuracy: 0.2845\n",
      "Epoch 74/100\n",
      "50000/50000 [==============================] - 20s 403us/step - loss: 0.3465 - accuracy: 0.8806 - val_loss: 5.9495 - val_accuracy: 0.2732\n",
      "Epoch 75/100\n",
      "50000/50000 [==============================] - 20s 395us/step - loss: 0.3714 - accuracy: 0.8712 - val_loss: 5.7853 - val_accuracy: 0.2737\n",
      "Epoch 76/100\n",
      "50000/50000 [==============================] - 19s 382us/step - loss: 0.3086 - accuracy: 0.8943 - val_loss: 6.0755 - val_accuracy: 0.2794\n",
      "Epoch 77/100\n",
      "50000/50000 [==============================] - 20s 397us/step - loss: 0.3185 - accuracy: 0.8903 - val_loss: 6.6472 - val_accuracy: 0.2733\n",
      "Epoch 78/100\n",
      "50000/50000 [==============================] - 19s 388us/step - loss: 0.3639 - accuracy: 0.8750 - val_loss: 6.1828 - val_accuracy: 0.2687\n",
      "Epoch 79/100\n",
      "50000/50000 [==============================] - 21s 412us/step - loss: 0.3213 - accuracy: 0.8889 - val_loss: 6.4898 - val_accuracy: 0.2750\n",
      "Epoch 80/100\n",
      "50000/50000 [==============================] - 21s 427us/step - loss: 0.3214 - accuracy: 0.8893 - val_loss: 6.5009 - val_accuracy: 0.2772\n",
      "Epoch 81/100\n",
      "50000/50000 [==============================] - 24s 490us/step - loss: 0.3242 - accuracy: 0.8872 - val_loss: 6.5164 - val_accuracy: 0.2709\n",
      "Epoch 82/100\n",
      "50000/50000 [==============================] - 22s 449us/step - loss: 0.3256 - accuracy: 0.8866 - val_loss: 6.9900 - val_accuracy: 0.2691\n",
      "Epoch 83/100\n",
      "50000/50000 [==============================] - 20s 406us/step - loss: 0.3505 - accuracy: 0.8789 - val_loss: 6.4923 - val_accuracy: 0.2700\n",
      "Epoch 84/100\n",
      "50000/50000 [==============================] - 20s 401us/step - loss: 0.2952 - accuracy: 0.8984 - val_loss: 6.6135 - val_accuracy: 0.2717\n",
      "Epoch 85/100\n",
      "50000/50000 [==============================] - 26s 522us/step - loss: 0.2559 - accuracy: 0.9122 - val_loss: 6.9058 - val_accuracy: 0.2786\n",
      "Epoch 86/100\n",
      "50000/50000 [==============================] - 20s 410us/step - loss: 0.2408 - accuracy: 0.9184 - val_loss: 7.2265 - val_accuracy: 0.2781\n",
      "Epoch 87/100\n",
      "50000/50000 [==============================] - 20s 402us/step - loss: 0.3377 - accuracy: 0.8831 - val_loss: 6.5418 - val_accuracy: 0.2795\n",
      "Epoch 88/100\n",
      "50000/50000 [==============================] - 21s 412us/step - loss: 0.2609 - accuracy: 0.9122 - val_loss: 7.1450 - val_accuracy: 0.2786\n",
      "Epoch 89/100\n",
      "50000/50000 [==============================] - 21s 418us/step - loss: 0.2435 - accuracy: 0.9169 - val_loss: 7.0414 - val_accuracy: 0.2767\n",
      "Epoch 90/100\n",
      "50000/50000 [==============================] - 21s 427us/step - loss: 0.3932 - accuracy: 0.8676 - val_loss: 6.3446 - val_accuracy: 0.2733\n",
      "Epoch 91/100\n",
      "50000/50000 [==============================] - 20s 402us/step - loss: 0.2678 - accuracy: 0.9100 - val_loss: 6.8267 - val_accuracy: 0.2764\n",
      "Epoch 92/100\n",
      "50000/50000 [==============================] - 20s 408us/step - loss: 0.2179 - accuracy: 0.9259 - val_loss: 7.3458 - val_accuracy: 0.2864\n",
      "Epoch 93/100\n",
      "50000/50000 [==============================] - 22s 448us/step - loss: 0.2858 - accuracy: 0.9029 - val_loss: 6.7977 - val_accuracy: 0.2797\n",
      "Epoch 94/100\n",
      "50000/50000 [==============================] - 22s 443us/step - loss: 0.2356 - accuracy: 0.9212 - val_loss: 7.0896 - val_accuracy: 0.2739\n",
      "Epoch 95/100\n",
      "50000/50000 [==============================] - 21s 418us/step - loss: 0.2500 - accuracy: 0.9148 - val_loss: 7.0874 - val_accuracy: 0.2765\n",
      "Epoch 96/100\n",
      "50000/50000 [==============================] - 22s 436us/step - loss: 0.2552 - accuracy: 0.9130 - val_loss: 7.3355 - val_accuracy: 0.2786\n",
      "Epoch 97/100\n",
      "50000/50000 [==============================] - 20s 406us/step - loss: 0.2819 - accuracy: 0.9030 - val_loss: 7.1103 - val_accuracy: 0.2715\n",
      "Epoch 98/100\n",
      "50000/50000 [==============================] - 21s 410us/step - loss: 0.3065 - accuracy: 0.8975 - val_loss: 7.1671 - val_accuracy: 0.2748\n",
      "Epoch 99/100\n",
      "50000/50000 [==============================] - 20s 400us/step - loss: 0.1748 - accuracy: 0.9412 - val_loss: 7.6615 - val_accuracy: 0.2742\n",
      "Epoch 100/100\n",
      "50000/50000 [==============================] - 20s 404us/step - loss: 0.2049 - accuracy: 0.9304 - val_loss: 7.3047 - val_accuracy: 0.2749\n"
     ]
    },
    {
     "data": {
      "text/plain": [
       "<keras.callbacks.callbacks.History at 0x1443e0160>"
      ]
     },
     "execution_count": 9,
     "metadata": {},
     "output_type": "execute_result"
    }
   ],
   "source": [
    "model.fit(x_train, y_train, \n",
    "          epochs=EPOCHS, \n",
    "          batch_size=BATCH_SIZE, \n",
    "          validation_data=(x_test, y_test), \n",
    "          shuffle=True)"
   ]
  },
  {
   "cell_type": "code",
   "execution_count": 11,
   "metadata": {},
   "outputs": [
    {
     "data": {
      "image/png": "[encoded data removed]",
      "text/plain": [
       "<Figure size 432x288 with 1 Axes>"
      ]
     },
     "metadata": {
      "needs_background": "light"
     },
     "output_type": "display_data"
    },
    {
     "data": {
      "image/png": "[encoded data removed]",
      "text/plain": [
       "<Figure size 432x288 with 1 Axes>"
      ]
     },
     "metadata": {
      "needs_background": "light"
     },
     "output_type": "display_data"
    }
   ],
   "source": [
    "import matplotlib.pyplot as plt\n",
    "\n",
    "\n",
    "train_loss = model.history.history[\"loss\"]\n",
    "valid_loss = model.history.history[\"val_loss\"]\n",
    "\n",
    "train_acc = model.history.history[\"accuracy\"]\n",
    "valid_acc = model.history.history[\"val_accuracy\"]\n",
    "\n",
    "plt.plot(range(len(train_loss)), train_loss, label=\"train loss\")\n",
    "plt.plot(range(len(valid_loss)), valid_loss, label=\"valid loss\")\n",
    "plt.legend()\n",
    "plt.title(\"Loss\")\n",
    "plt.show()\n",
    "\n",
    "plt.plot(range(len(train_acc)), train_acc, label=\"train accuracy\")\n",
    "plt.plot(range(len(valid_acc)), valid_acc, label=\"valid accuracy\")\n",
    "plt.legend()\n",
    "plt.title(\"Accuracy\")\n",
    "plt.show()"
   ]
  },
  {
   "cell_type": "code",
   "execution_count": null,
   "metadata": {},
   "outputs": [],
   "source": []
  }
 ],
 "metadata": {
  "kernelspec": {
   "display_name": "Python 3",
   "language": "python",
   "name": "python3"
  },
  "language_info": {
   "codemirror_mode": {
    "name": "ipython",
    "version": 3
   },
   "file_extension": ".py",
   "mimetype": "text/x-python",
   "name": "python",
   "nbconvert_exporter": "python",
   "pygments_lexer": "ipython3",
   "version": "3.7.3"
  }
 },
 "nbformat": 4,
 "nbformat_minor": 2
}
