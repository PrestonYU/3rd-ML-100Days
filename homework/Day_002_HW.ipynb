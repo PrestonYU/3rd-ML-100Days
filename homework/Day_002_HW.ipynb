{
 "cells": [
  {
   "cell_type": "markdown",
   "metadata": {},
   "source": [
    "## [作業目標]\n",
    "了解機器學習適合應用的領域與範疇。"
   ]
  },
  {
   "cell_type": "markdown",
   "metadata": {},
   "source": [
    "## [作業重點]\n",
    "透過瞭解機器學習的運作方式，找出非常適用機器學習應用的領域及其原因"
   ]
  },
  {
   "cell_type": "markdown",
   "metadata": {},
   "source": [
    "## 作業\n",
    "請找出一個你認為機器學習可以發光發熱的領域並闡述原因? "
   ]
  },
  {
   "cell_type": "code",
   "execution_count": null,
   "metadata": {},
   "outputs": [],
   "source": [
    "我認為在金融領域，比方在股票投資方面，機器學習有高度的潛力\n",
    "\n",
    "股票價格漲跌資訊是依時間序列構成，它可能會因某段時間點的外在或內在環境波動而影響這支股票的漲跌，\n",
    "\n",
    "然而透過機器學習可以處理公司的歷史財報與最新財金新聞，將新聞詞組分類，簡單地劃分成「股票看漲組」詞組與「股票看跌組」詞組，進而預測與分析股票的漲跌程度\n",
    "\n",
    "透過機器學習還可以透過歷史財報及股票價格波動制定投資策略與優化投資組合（portfolio）。\n"
   ]
  }
 ],
 "metadata": {
  "kernelspec": {
   "display_name": "Python 3",
   "language": "python",
   "name": "python3"
  },
  "language_info": {
   "codemirror_mode": {
    "name": "ipython",
    "version": 3
   },
   "file_extension": ".py",
   "mimetype": "text/x-python",
   "name": "python",
   "nbconvert_exporter": "python",
   "pygments_lexer": "ipython3",
   "version": "3.7.0"
  }
 },
 "nbformat": 4,
 "nbformat_minor": 2
}
