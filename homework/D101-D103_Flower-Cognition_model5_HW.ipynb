{
 "cells": [
  {
   "cell_type": "code",
   "execution_count": 1,
   "metadata": {},
   "outputs": [],
   "source": [
    "flower_mapping = {'daisy':0, 'dandelion':1, 'rose':2, 'sunflower':3, 'tulip':4}\n",
    "train_dir = \"ml100-03-final/image_data/train/\"\n",
    "test_dir = \"ml100-03-final/image_data/test/test\""
   ]
  },
  {
   "cell_type": "code",
   "execution_count": 2,
   "metadata": {},
   "outputs": [
    {
     "name": "stderr",
     "output_type": "stream",
     "text": [
      "Using TensorFlow backend.\n"
     ]
    }
   ],
   "source": [
    "from keras.preprocessing.image import ImageDataGenerator\n",
    "train_datagen = ImageDataGenerator(\n",
    "    validation_split=0.1,\n",
    "    rescale=1./255,\n",
    "#     rotation_range=40,\n",
    "#     width_shift_range=0.2,\n",
    "#     height_shift_range=0.2,\n",
    "#     shear_range=0.2,\n",
    "#     zoom_range=0.2,\n",
    "#     horizontal_flip=True\n",
    ")"
   ]
  },
  {
   "cell_type": "code",
   "execution_count": 3,
   "metadata": {},
   "outputs": [
    {
     "name": "stdout",
     "output_type": "stream",
     "text": [
      "Found 2543 images belonging to 5 classes.\n",
      "Found 280 images belonging to 5 classes.\n"
     ]
    }
   ],
   "source": [
    "train_generator = train_datagen.flow_from_directory(\n",
    "    train_dir,\n",
    "    target_size=(150, 150),\n",
    "    batch_size=32,\n",
    "    class_mode='categorical',\n",
    "    subset='training',\n",
    ")\n",
    "validation_generator = train_datagen.flow_from_directory(\n",
    "    train_dir,\n",
    "    target_size=(150, 150),\n",
    "    batch_size=32,\n",
    "    class_mode='categorical',\n",
    "    subset='validation',\n",
    ")"
   ]
  },
  {
   "cell_type": "code",
   "execution_count": 4,
   "metadata": {},
   "outputs": [],
   "source": [
    "# import matplotlib.pyplot as plt\n",
    "# import numpy as np\n",
    "# %matplotlib inline\n",
    "# for data_batch, labels_batch in train_generator:\n",
    "#     print('data batch shape: ', data_batch.shape)\n",
    "#     print('labels batch shape: ', labels_batch.shape)\n",
    "#     print(labels_batch[1])\n",
    "#     plt.imshow(data_batch[1])\n",
    "#     break"
   ]
  },
  {
   "cell_type": "code",
   "execution_count": 5,
   "metadata": {},
   "outputs": [
    {
     "name": "stdout",
     "output_type": "stream",
     "text": [
      "(150, 150) 5\n"
     ]
    }
   ],
   "source": [
    "import numpy as np\n",
    "img_shape = train_generator.target_size\n",
    "num_classes = len(np.unique(train_generator.classes))\n",
    "print(img_shape, num_classes)"
   ]
  },
  {
   "cell_type": "code",
   "execution_count": 6,
   "metadata": {},
   "outputs": [],
   "source": [
    "import keras\n",
    "from keras.models import Sequential\n",
    "from keras.layers import Dense, Dropout, Activation, Flatten\n",
    "from keras.layers import Conv2D, MaxPooling2D"
   ]
  },
  {
   "cell_type": "code",
   "execution_count": 7,
   "metadata": {},
   "outputs": [
    {
     "name": "stdout",
     "output_type": "stream",
     "text": [
      "Model: \"sequential_1\"\n",
      "_________________________________________________________________\n",
      "Layer (type)                 Output Shape              Param #   \n",
      "=================================================================\n",
      "conv2d_1 (Conv2D)            (None, 150, 150, 32)      896       \n",
      "_________________________________________________________________\n",
      "activation_1 (Activation)    (None, 150, 150, 32)      0         \n",
      "_________________________________________________________________\n",
      "conv2d_2 (Conv2D)            (None, 150, 150, 32)      9248      \n",
      "_________________________________________________________________\n",
      "activation_2 (Activation)    (None, 150, 150, 32)      0         \n",
      "_________________________________________________________________\n",
      "max_pooling2d_1 (MaxPooling2 (None, 75, 75, 32)        0         \n",
      "_________________________________________________________________\n",
      "conv2d_3 (Conv2D)            (None, 75, 75, 64)        18496     \n",
      "_________________________________________________________________\n",
      "activation_3 (Activation)    (None, 75, 75, 64)        0         \n",
      "_________________________________________________________________\n",
      "conv2d_4 (Conv2D)            (None, 75, 75, 64)        36928     \n",
      "_________________________________________________________________\n",
      "activation_4 (Activation)    (None, 75, 75, 64)        0         \n",
      "_________________________________________________________________\n",
      "max_pooling2d_2 (MaxPooling2 (None, 38, 38, 64)        0         \n",
      "_________________________________________________________________\n",
      "dropout_1 (Dropout)          (None, 38, 38, 64)        0         \n",
      "_________________________________________________________________\n",
      "conv2d_5 (Conv2D)            (None, 38, 38, 128)       73856     \n",
      "_________________________________________________________________\n",
      "activation_5 (Activation)    (None, 38, 38, 128)       0         \n",
      "_________________________________________________________________\n",
      "conv2d_6 (Conv2D)            (None, 38, 38, 128)       147584    \n",
      "_________________________________________________________________\n",
      "activation_6 (Activation)    (None, 38, 38, 128)       0         \n",
      "_________________________________________________________________\n",
      "max_pooling2d_3 (MaxPooling2 (None, 19, 19, 128)       0         \n",
      "_________________________________________________________________\n",
      "dropout_2 (Dropout)          (None, 19, 19, 128)       0         \n",
      "_________________________________________________________________\n",
      "conv2d_7 (Conv2D)            (None, 19, 19, 256)       295168    \n",
      "_________________________________________________________________\n",
      "activation_7 (Activation)    (None, 19, 19, 256)       0         \n",
      "_________________________________________________________________\n",
      "conv2d_8 (Conv2D)            (None, 19, 19, 256)       590080    \n",
      "_________________________________________________________________\n",
      "activation_8 (Activation)    (None, 19, 19, 256)       0         \n",
      "_________________________________________________________________\n",
      "max_pooling2d_4 (MaxPooling2 (None, 10, 10, 256)       0         \n",
      "_________________________________________________________________\n",
      "dropout_3 (Dropout)          (None, 10, 10, 256)       0         \n",
      "_________________________________________________________________\n",
      "flatten_1 (Flatten)          (None, 25600)             0         \n",
      "_________________________________________________________________\n",
      "dense_1 (Dense)              (None, 128)               3276928   \n",
      "_________________________________________________________________\n",
      "activation_9 (Activation)    (None, 128)               0         \n",
      "_________________________________________________________________\n",
      "dropout_4 (Dropout)          (None, 128)               0         \n",
      "_________________________________________________________________\n",
      "dense_2 (Dense)              (None, 5)                 645       \n",
      "_________________________________________________________________\n",
      "activation_10 (Activation)   (None, 5)                 0         \n",
      "=================================================================\n",
      "Total params: 4,449,829\n",
      "Trainable params: 4,449,829\n",
      "Non-trainable params: 0\n",
      "_________________________________________________________________\n"
     ]
    }
   ],
   "source": [
    "model = Sequential()\n",
    "model.add(Conv2D(32, (3, 3), padding='same', input_shape=img_shape+(3,), kernel_initializer='he_normal'))\n",
    "model.add(Activation('relu'))\n",
    "model.add(Conv2D(32, (3, 3), padding='same', kernel_initializer='he_normal'))\n",
    "model.add(Activation('relu'))\n",
    "model.add(MaxPooling2D(pool_size=(2, 2), strides=2, padding='same'))\n",
    "\n",
    "for n in [64, 128, 256]:\n",
    "    model.add(Conv2D(n, (3, 3), padding='same', kernel_initializer='he_normal'))\n",
    "    model.add(Activation('relu'))\n",
    "    model.add(Conv2D(n, (3, 3), padding='same', kernel_initializer='he_normal'))\n",
    "    model.add(Activation('relu'))\n",
    "    model.add(MaxPooling2D(pool_size=(2, 2), strides=2, padding='same'))\n",
    "    model.add(Dropout(0.5))\n",
    "\n",
    "model.add(Flatten())\n",
    "model.add(Dense(units=128, kernel_initializer='he_normal'))\n",
    "model.add(Activation('relu'))\n",
    "model.add(Dropout(0.5))\n",
    "model.add(Dense(num_classes, kernel_initializer='he_normal'))\n",
    "model.add(Activation('softmax'))\n",
    "model.summary()\n",
    "\n",
    "model.compile(loss='categorical_crossentropy', optimizer='adadelta', metrics=['accuracy'])"
   ]
  },
  {
   "cell_type": "code",
   "execution_count": 8,
   "metadata": {},
   "outputs": [
    {
     "name": "stdout",
     "output_type": "stream",
     "text": [
      "Epoch 1/33\n",
      "79/79 [==============================] - 1604s 20s/step - loss: 2.1696 - accuracy: 0.2370 - val_loss: 1.5813 - val_accuracy: 0.2578\n",
      "Epoch 2/33\n",
      "79/79 [==============================] - 1710s 22s/step - loss: 1.5705 - accuracy: 0.3082 - val_loss: 1.3507 - val_accuracy: 0.3871\n",
      "Epoch 3/33\n",
      "79/79 [==============================] - 2122s 27s/step - loss: 1.4211 - accuracy: 0.3915 - val_loss: 1.2214 - val_accuracy: 0.4637ETA: 25:58 - loss: 1.5015 - accuracy: 0.35 - ETA: 25:37 - loss:\n",
      "Epoch 4/33\n",
      "79/79 [==============================] - 1940s 25s/step - loss: 1.3082 - accuracy: 0.4341 - val_loss: 1.1913 - val_accuracy: 0.5121\n",
      "Epoch 5/33\n",
      "79/79 [==============================] - 1968s 25s/step - loss: 1.2009 - accuracy: 0.4898 - val_loss: 1.2020 - val_accuracy: 0.5685\n",
      "Epoch 6/33\n",
      "79/79 [==============================] - 1874s 24s/step - loss: 1.1948 - accuracy: 0.5217 - val_loss: 1.1221 - val_accuracy: 0.5403\n",
      "Epoch 7/33\n",
      "79/79 [==============================] - 1854s 23s/step - loss: 1.0764 - accuracy: 0.5739 - val_loss: 0.8994 - val_accuracy: 0.6653\n",
      "Epoch 8/33\n",
      "79/79 [==============================] - 1847s 23s/step - loss: 1.0402 - accuracy: 0.6010 - val_loss: 1.1122 - val_accuracy: 0.5524\n",
      "Epoch 9/33\n",
      "79/79 [==============================] - 1983s 25s/step - loss: 0.9651 - accuracy: 0.6332 - val_loss: 1.0323 - val_accuracy: 0.6895\n",
      "Epoch 10/33\n",
      "79/79 [==============================] - 1898s 24s/step - loss: 0.9212 - accuracy: 0.6356 - val_loss: 1.3192 - val_accuracy: 0.6758\n",
      "Epoch 11/33\n",
      "79/79 [==============================] - 1899s 24s/step - loss: 0.8905 - accuracy: 0.6655 - val_loss: 1.1137 - val_accuracy: 0.5766\n",
      "Epoch 12/33\n",
      "79/79 [==============================] - 1805s 23s/step - loss: 0.8371 - accuracy: 0.6806 - val_loss: 0.8825 - val_accuracy: 0.6774\n",
      "Epoch 13/33\n",
      "79/79 [==============================] - 1725s 22s/step - loss: 0.8194 - accuracy: 0.6941 - val_loss: 0.9295 - val_accuracy: 0.7097\n",
      "Epoch 14/33\n",
      "79/79 [==============================] - 1958s 25s/step - loss: 0.7806 - accuracy: 0.7029 - val_loss: 1.0028 - val_accuracy: 0.6855\n",
      "Epoch 15/33\n",
      "79/79 [==============================] - 1803s 23s/step - loss: 0.7188 - accuracy: 0.7312 - val_loss: 0.9981 - val_accuracy: 0.7218\n",
      "Epoch 16/33\n",
      "79/79 [==============================] - 1856s 23s/step - loss: 0.7207 - accuracy: 0.7435 - val_loss: 0.7090 - val_accuracy: 0.6613\n",
      "Epoch 17/33\n",
      "79/79 [==============================] - 1899s 24s/step - loss: 0.6999 - accuracy: 0.7447 - val_loss: 0.9739 - val_accuracy: 0.6815\n",
      "Epoch 18/33\n",
      "79/79 [==============================] - 1914s 24s/step - loss: 0.6039 - accuracy: 0.7738 - val_loss: 0.7565 - val_accuracy: 0.7097\n",
      "Epoch 19/33\n",
      "79/79 [==============================] - 2003s 25s/step - loss: 0.6079 - accuracy: 0.7710 - val_loss: 0.8684 - val_accuracy: 0.6875\n",
      "Epoch 20/33\n",
      "79/79 [==============================] - 1927s 24s/step - loss: 0.5428 - accuracy: 0.8054 - val_loss: 0.6238 - val_accuracy: 0.7540\n",
      "Epoch 21/33\n",
      "79/79 [==============================] - 1650s 21s/step - loss: 0.5441 - accuracy: 0.7977 - val_loss: 1.0828 - val_accuracy: 0.7056\n",
      "Epoch 22/33\n",
      "79/79 [==============================] - 1947s 25s/step - loss: 0.5213 - accuracy: 0.8111 - val_loss: 0.7177 - val_accuracy: 0.7298\n",
      "Epoch 23/33\n",
      "79/79 [==============================] - 2131s 27s/step - loss: 0.4750 - accuracy: 0.8272 - val_loss: 1.4648 - val_accuracy: 0.6573\n",
      "Epoch 24/33\n",
      "79/79 [==============================] - 2086s 26s/step - loss: 0.4555 - accuracy: 0.8347 - val_loss: 1.0191 - val_accuracy: 0.6774\n",
      "Epoch 25/33\n",
      "79/79 [==============================] - 1950s 25s/step - loss: 0.4374 - accuracy: 0.8448 - val_loss: 1.3490 - val_accuracy: 0.6976\n",
      "Epoch 26/33\n",
      "79/79 [==============================] - 1864s 24s/step - loss: 0.3988 - accuracy: 0.8596 - val_loss: 0.8895 - val_accuracy: 0.7339\n",
      "Epoch 27/33\n",
      "79/79 [==============================] - 1948s 25s/step - loss: 0.4107 - accuracy: 0.8662 - val_loss: 1.4691 - val_accuracy: 0.7339\n",
      "Epoch 28/33\n",
      "79/79 [==============================] - 1797s 23s/step - loss: 0.3150 - accuracy: 0.8901 - val_loss: 0.8781 - val_accuracy: 0.7148\n",
      "Epoch 29/33\n",
      "79/79 [==============================] - 1926s 24s/step - loss: 0.3183 - accuracy: 0.8889 - val_loss: 1.0479 - val_accuracy: 0.7056\n",
      "Epoch 30/33\n",
      "79/79 [==============================] - 1965s 25s/step - loss: 0.3265 - accuracy: 0.8913 - val_loss: 0.6000 - val_accuracy: 0.6895\n",
      "Epoch 31/33\n",
      "79/79 [==============================] - 1834s 23s/step - loss: 0.2788 - accuracy: 0.8953 - val_loss: 0.7204 - val_accuracy: 0.7339\n",
      "Epoch 32/33\n",
      "79/79 [==============================] - 1842s 23s/step - loss: 0.2936 - accuracy: 0.9052 - val_loss: 1.0486 - val_accuracy: 0.7460\n",
      "Epoch 33/33\n",
      "79/79 [==============================] - 1744s 22s/step - loss: 0.2836 - accuracy: 0.9088 - val_loss: 1.3333 - val_accuracy: 0.7339\n"
     ]
    }
   ],
   "source": [
    "history = model.fit_generator(\n",
    "    train_generator,\n",
    "    steps_per_epoch=train_generator.samples//32,\n",
    "    epochs=33,\n",
    "    shuffle=True,\n",
    "    validation_data = validation_generator,\n",
    "    validation_steps = validation_generator.samples//32,\n",
    ")"
   ]
  },
  {
   "cell_type": "code",
   "execution_count": null,
   "metadata": {},
   "outputs": [],
   "source": [
    "# model.save(\"3.l98a71.h5\")\n",
    "# from keras.models import load_model\n",
    "# from keras.models import Sequential\n",
    "# model = Sequential()\n",
    "# model = load_model(\"1.h5\")"
   ]
  },
  {
   "cell_type": "code",
   "execution_count": 9,
   "metadata": {},
   "outputs": [
    {
     "data": {
      "text/plain": [
       "{'daisy': 0, 'dandelion': 1, 'rose': 2, 'sunflower': 3, 'tulip': 4}"
      ]
     },
     "execution_count": 9,
     "metadata": {},
     "output_type": "execute_result"
    }
   ],
   "source": [
    "train_generator.class_indices"
   ]
  },
  {
   "cell_type": "code",
   "execution_count": 10,
   "metadata": {},
   "outputs": [
    {
     "name": "stdout",
     "output_type": "stream",
     "text": [
      "Found 0 images belonging to 0 classes.\n"
     ]
    }
   ],
   "source": [
    "test_generator = ImageDataGenerator(\n",
    "    rescale=1./255,\n",
    ").flow_from_directory(\n",
    "    test_dir,\n",
    "    target_size=(150, 150),\n",
    "    batch_size=1,\n",
    "    class_mode=None,\n",
    "    shuffle=False,\n",
    ")"
   ]
  },
  {
   "cell_type": "code",
   "execution_count": 11,
   "metadata": {},
   "outputs": [
    {
     "ename": "AxisError",
     "evalue": "axis 1 is out of bounds for array of dimension 1",
     "output_type": "error",
     "traceback": [
      "\u001b[0;31m---------------------------------------------------------------------------\u001b[0m",
      "\u001b[0;31mAxisError\u001b[0m                                 Traceback (most recent call last)",
      "\u001b[0;32m<ipython-input-11-fb08dc5d33cf>\u001b[0m in \u001b[0;36m<module>\u001b[0;34m()\u001b[0m\n\u001b[1;32m      1\u001b[0m \u001b[0mtest_generator\u001b[0m\u001b[0;34m.\u001b[0m\u001b[0mreset\u001b[0m\u001b[0;34m(\u001b[0m\u001b[0;34m)\u001b[0m\u001b[0;34m\u001b[0m\u001b[0;34m\u001b[0m\u001b[0m\n\u001b[1;32m      2\u001b[0m \u001b[0mpred\u001b[0m \u001b[0;34m=\u001b[0m \u001b[0mmodel\u001b[0m\u001b[0;34m.\u001b[0m\u001b[0mpredict_generator\u001b[0m\u001b[0;34m(\u001b[0m\u001b[0mtest_generator\u001b[0m\u001b[0;34m,\u001b[0m \u001b[0mverbose\u001b[0m\u001b[0;34m=\u001b[0m\u001b[0;36m1\u001b[0m\u001b[0;34m)\u001b[0m\u001b[0;34m\u001b[0m\u001b[0;34m\u001b[0m\u001b[0m\n\u001b[0;32m----> 3\u001b[0;31m \u001b[0mpredicted_class_indices\u001b[0m \u001b[0;34m=\u001b[0m \u001b[0mnp\u001b[0m\u001b[0;34m.\u001b[0m\u001b[0margmax\u001b[0m\u001b[0;34m(\u001b[0m\u001b[0mpred\u001b[0m\u001b[0;34m,\u001b[0m \u001b[0maxis\u001b[0m\u001b[0;34m=\u001b[0m\u001b[0;36m1\u001b[0m\u001b[0;34m)\u001b[0m\u001b[0;34m\u001b[0m\u001b[0;34m\u001b[0m\u001b[0m\n\u001b[0m\u001b[1;32m      4\u001b[0m \u001b[0mlabels\u001b[0m \u001b[0;34m=\u001b[0m \u001b[0;34m(\u001b[0m\u001b[0mtrain_generator\u001b[0m\u001b[0;34m.\u001b[0m\u001b[0mclass_indices\u001b[0m\u001b[0;34m)\u001b[0m\u001b[0;34m\u001b[0m\u001b[0;34m\u001b[0m\u001b[0m\n\u001b[1;32m      5\u001b[0m \u001b[0mlabel\u001b[0m \u001b[0;34m=\u001b[0m \u001b[0mdict\u001b[0m\u001b[0;34m(\u001b[0m\u001b[0;34m(\u001b[0m\u001b[0mv\u001b[0m\u001b[0;34m,\u001b[0m\u001b[0mk\u001b[0m\u001b[0;34m)\u001b[0m \u001b[0;32mfor\u001b[0m \u001b[0mk\u001b[0m\u001b[0;34m,\u001b[0m\u001b[0mv\u001b[0m \u001b[0;32min\u001b[0m \u001b[0mlabels\u001b[0m\u001b[0;34m.\u001b[0m\u001b[0mitems\u001b[0m\u001b[0;34m(\u001b[0m\u001b[0;34m)\u001b[0m\u001b[0;34m)\u001b[0m\u001b[0;34m\u001b[0m\u001b[0;34m\u001b[0m\u001b[0m\n",
      "\u001b[0;32m<__array_function__ internals>\u001b[0m in \u001b[0;36margmax\u001b[0;34m(*args, **kwargs)\u001b[0m\n",
      "\u001b[0;32m/anaconda3/lib/python3.7/site-packages/numpy/core/fromnumeric.py\u001b[0m in \u001b[0;36margmax\u001b[0;34m(a, axis, out)\u001b[0m\n\u001b[1;32m   1151\u001b[0m \u001b[0;34m\u001b[0m\u001b[0m\n\u001b[1;32m   1152\u001b[0m     \"\"\"\n\u001b[0;32m-> 1153\u001b[0;31m     \u001b[0;32mreturn\u001b[0m \u001b[0m_wrapfunc\u001b[0m\u001b[0;34m(\u001b[0m\u001b[0ma\u001b[0m\u001b[0;34m,\u001b[0m \u001b[0;34m'argmax'\u001b[0m\u001b[0;34m,\u001b[0m \u001b[0maxis\u001b[0m\u001b[0;34m=\u001b[0m\u001b[0maxis\u001b[0m\u001b[0;34m,\u001b[0m \u001b[0mout\u001b[0m\u001b[0;34m=\u001b[0m\u001b[0mout\u001b[0m\u001b[0;34m)\u001b[0m\u001b[0;34m\u001b[0m\u001b[0;34m\u001b[0m\u001b[0m\n\u001b[0m\u001b[1;32m   1154\u001b[0m \u001b[0;34m\u001b[0m\u001b[0m\n\u001b[1;32m   1155\u001b[0m \u001b[0;34m\u001b[0m\u001b[0m\n",
      "\u001b[0;32m/anaconda3/lib/python3.7/site-packages/numpy/core/fromnumeric.py\u001b[0m in \u001b[0;36m_wrapfunc\u001b[0;34m(obj, method, *args, **kwds)\u001b[0m\n\u001b[1;32m     56\u001b[0m     \u001b[0mbound\u001b[0m \u001b[0;34m=\u001b[0m \u001b[0mgetattr\u001b[0m\u001b[0;34m(\u001b[0m\u001b[0mobj\u001b[0m\u001b[0;34m,\u001b[0m \u001b[0mmethod\u001b[0m\u001b[0;34m,\u001b[0m \u001b[0;32mNone\u001b[0m\u001b[0;34m)\u001b[0m\u001b[0;34m\u001b[0m\u001b[0;34m\u001b[0m\u001b[0m\n\u001b[1;32m     57\u001b[0m     \u001b[0;32mif\u001b[0m \u001b[0mbound\u001b[0m \u001b[0;32mis\u001b[0m \u001b[0;32mNone\u001b[0m\u001b[0;34m:\u001b[0m\u001b[0;34m\u001b[0m\u001b[0;34m\u001b[0m\u001b[0m\n\u001b[0;32m---> 58\u001b[0;31m         \u001b[0;32mreturn\u001b[0m \u001b[0m_wrapit\u001b[0m\u001b[0;34m(\u001b[0m\u001b[0mobj\u001b[0m\u001b[0;34m,\u001b[0m \u001b[0mmethod\u001b[0m\u001b[0;34m,\u001b[0m \u001b[0;34m*\u001b[0m\u001b[0margs\u001b[0m\u001b[0;34m,\u001b[0m \u001b[0;34m**\u001b[0m\u001b[0mkwds\u001b[0m\u001b[0;34m)\u001b[0m\u001b[0;34m\u001b[0m\u001b[0;34m\u001b[0m\u001b[0m\n\u001b[0m\u001b[1;32m     59\u001b[0m \u001b[0;34m\u001b[0m\u001b[0m\n\u001b[1;32m     60\u001b[0m     \u001b[0;32mtry\u001b[0m\u001b[0;34m:\u001b[0m\u001b[0;34m\u001b[0m\u001b[0;34m\u001b[0m\u001b[0m\n",
      "\u001b[0;32m/anaconda3/lib/python3.7/site-packages/numpy/core/fromnumeric.py\u001b[0m in \u001b[0;36m_wrapit\u001b[0;34m(obj, method, *args, **kwds)\u001b[0m\n\u001b[1;32m     45\u001b[0m     \u001b[0;32mexcept\u001b[0m \u001b[0mAttributeError\u001b[0m\u001b[0;34m:\u001b[0m\u001b[0;34m\u001b[0m\u001b[0;34m\u001b[0m\u001b[0m\n\u001b[1;32m     46\u001b[0m         \u001b[0mwrap\u001b[0m \u001b[0;34m=\u001b[0m \u001b[0;32mNone\u001b[0m\u001b[0;34m\u001b[0m\u001b[0;34m\u001b[0m\u001b[0m\n\u001b[0;32m---> 47\u001b[0;31m     \u001b[0mresult\u001b[0m \u001b[0;34m=\u001b[0m \u001b[0mgetattr\u001b[0m\u001b[0;34m(\u001b[0m\u001b[0masarray\u001b[0m\u001b[0;34m(\u001b[0m\u001b[0mobj\u001b[0m\u001b[0;34m)\u001b[0m\u001b[0;34m,\u001b[0m \u001b[0mmethod\u001b[0m\u001b[0;34m)\u001b[0m\u001b[0;34m(\u001b[0m\u001b[0;34m*\u001b[0m\u001b[0margs\u001b[0m\u001b[0;34m,\u001b[0m \u001b[0;34m**\u001b[0m\u001b[0mkwds\u001b[0m\u001b[0;34m)\u001b[0m\u001b[0;34m\u001b[0m\u001b[0;34m\u001b[0m\u001b[0m\n\u001b[0m\u001b[1;32m     48\u001b[0m     \u001b[0;32mif\u001b[0m \u001b[0mwrap\u001b[0m\u001b[0;34m:\u001b[0m\u001b[0;34m\u001b[0m\u001b[0;34m\u001b[0m\u001b[0m\n\u001b[1;32m     49\u001b[0m         \u001b[0;32mif\u001b[0m \u001b[0;32mnot\u001b[0m \u001b[0misinstance\u001b[0m\u001b[0;34m(\u001b[0m\u001b[0mresult\u001b[0m\u001b[0;34m,\u001b[0m \u001b[0mmu\u001b[0m\u001b[0;34m.\u001b[0m\u001b[0mndarray\u001b[0m\u001b[0;34m)\u001b[0m\u001b[0;34m:\u001b[0m\u001b[0;34m\u001b[0m\u001b[0;34m\u001b[0m\u001b[0m\n",
      "\u001b[0;31mAxisError\u001b[0m: axis 1 is out of bounds for array of dimension 1"
     ]
    }
   ],
   "source": [
    "test_generator.reset()\n",
    "pred = model.predict_generator(test_generator, verbose=1)\n",
    "predicted_class_indices = np.argmax(pred, axis=1)\n",
    "labels = (train_generator.class_indices)\n",
    "label = dict((v,k) for k,v in labels.items())\n",
    "predictions = [label[i] for i in predicted_class_indices]\n",
    "filenames = [s[5:-4] for s in test_generator.filenames]"
   ]
  },
  {
   "cell_type": "code",
   "execution_count": null,
   "metadata": {},
   "outputs": [],
   "source": [
    "for idx in range(len(filenames)):\n",
    "    print('predict  %d' % (int(predictions[idx])))\n",
    "    print('title    %s' % filenames[idx])\n",
    "    print('')"
   ]
  },
  {
   "cell_type": "code",
   "execution_count": null,
   "metadata": {},
   "outputs": [],
   "source": [
    "import pandas as pd\n",
    "from datetime import datetime\n",
    "now = datetime.today().strftime('%Y%m%d%H%M%S')\n",
    "mname = type(model).__name__\n",
    "print(mname, now)\n",
    "pd.DataFrame({'id': filenames, 'flower_class': predicted_class_indices}).to_csv('JL_'+mname+'.'+now+'model5.csv', index=False)"
   ]
  }
 ],
 "metadata": {
  "kernelspec": {
   "display_name": "Python 3",
   "language": "python",
   "name": "python3"
  },
  "language_info": {
   "codemirror_mode": {
    "name": "ipython",
    "version": 3
   },
   "file_extension": ".py",
   "mimetype": "text/x-python",
   "name": "python",
   "nbconvert_exporter": "python",
   "pygments_lexer": "ipython3",
   "version": "3.7.3"
  }
 },
 "nbformat": 4,
 "nbformat_minor": 2
}
