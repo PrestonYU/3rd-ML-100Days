{
 "cells": [
  {
   "cell_type": "markdown",
   "metadata": {},
   "source": [
    "## 練習時間"
   ]
  },
  {
   "cell_type": "markdown",
   "metadata": {},
   "source": [
    "請觀看李宏毅教授以神奇寶貝進化 CP 值預測的範例，解說何謂機器學習與過擬合。並回答以下問題"
   ]
  },
  {
   "cell_type": "markdown",
   "metadata": {},
   "source": [
    "[youtube](https://www.youtube.com/watch?v=fegAeph9UaA)"
   ]
  },
  {
   "cell_type": "markdown",
   "metadata": {},
   "source": [
    "### 1. 模型的泛化能力 (generalization) 是指什麼？ "
   ]
  },
  {
   "cell_type": "markdown",
   "metadata": {},
   "source": [
    "代表模型的泛用程度，能否讓test data與train data一樣具有良好的fitting，也就是有沒有發生為適應給定資料集而產生的過擬合(overfitting)現象。\n",
    "\n",
    "降低overfitting的方法則有:\n",
    "1.Dropout\n",
    "2.Early Stopping\n",
    "3.Data augmentation\n",
    "4.Weight Decay\n",
    "5.簡化模型複雜度"
   ]
  },
  {
   "cell_type": "markdown",
   "metadata": {},
   "source": [
    "### 2. 分類問題與回歸問題分別可用的目標函數有哪些？"
   ]
  },
  {
   "cell_type": "markdown",
   "metadata": {},
   "source": [
    "回歸問題:\n",
    "a.平均絕對誤差（MAE）\n",
    "b.均方誤差（MSE）\n",
    "c.平滑平均絕對誤差 (Huber損失)\n",
    "\n",
    "分類問題:\n",
    "a.Hinge loss\n",
    "b.Logistic Regression\n",
    "c.Square loss\n",
    "d.分類樹\n",
    "e.最近鄰算法\n",
    "f.線性迴歸"
   ]
  }
 ],
 "metadata": {
  "kernelspec": {
   "display_name": "Python 3",
   "language": "python",
   "name": "python3"
  },
  "language_info": {
   "codemirror_mode": {
    "name": "ipython",
    "version": 3
   },
   "file_extension": ".py",
   "mimetype": "text/x-python",
   "name": "python",
   "nbconvert_exporter": "python",
   "pygments_lexer": "ipython3",
   "version": "3.7.0"
  }
 },
 "nbformat": 4,
 "nbformat_minor": 2
}
